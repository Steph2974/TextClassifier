{
 "cells": [
  {
   "cell_type": "code",
   "execution_count": 1,
   "id": "9d6c5df2",
   "metadata": {},
   "outputs": [
    {
     "data": {
      "text/html": [
       "<div>\n",
       "<style scoped>\n",
       "    .dataframe tbody tr th:only-of-type {\n",
       "        vertical-align: middle;\n",
       "    }\n",
       "\n",
       "    .dataframe tbody tr th {\n",
       "        vertical-align: top;\n",
       "    }\n",
       "\n",
       "    .dataframe thead th {\n",
       "        text-align: right;\n",
       "    }\n",
       "</style>\n",
       "<table border=\"1\" class=\"dataframe\">\n",
       "  <thead>\n",
       "    <tr style=\"text-align: right;\">\n",
       "      <th></th>\n",
       "      <th>message</th>\n",
       "      <th>label</th>\n",
       "    </tr>\n",
       "  </thead>\n",
       "  <tbody>\n",
       "    <tr>\n",
       "      <th>0</th>\n",
       "      <td>差不多 但先讓妳睡著</td>\n",
       "      <td>正常-normal</td>\n",
       "    </tr>\n",
       "    <tr>\n",
       "      <th>1</th>\n",
       "      <td>回家也是跟我姐互嗆打屁講幹話哈哈哈</td>\n",
       "      <td>正常-normal</td>\n",
       "    </tr>\n",
       "    <tr>\n",
       "      <th>2</th>\n",
       "      <td>是我說跟女生做愛的那個女生</td>\n",
       "      <td>色情-sex word</td>\n",
       "    </tr>\n",
       "    <tr>\n",
       "      <th>3</th>\n",
       "      <td>很少跟異性聊天會聊到這種話題</td>\n",
       "      <td>正常-normal</td>\n",
       "    </tr>\n",
       "    <tr>\n",
       "      <th>4</th>\n",
       "      <td>一個正常女生喜歡男生怎麼會跑去跟女生做愛咧？這不是很奇怪嗎？</td>\n",
       "      <td>正常-normal</td>\n",
       "    </tr>\n",
       "    <tr>\n",
       "      <th>...</th>\n",
       "      <td>...</td>\n",
       "      <td>...</td>\n",
       "    </tr>\n",
       "    <tr>\n",
       "      <th>8774</th>\n",
       "      <td>我要去確保你有去洗澡</td>\n",
       "      <td>正常-normal</td>\n",
       "    </tr>\n",
       "    <tr>\n",
       "      <th>8775</th>\n",
       "      <td>一邊幹話真的很重要欸</td>\n",
       "      <td>正常-normal</td>\n",
       "    </tr>\n",
       "    <tr>\n",
       "      <th>8776</th>\n",
       "      <td>直接見面搞不好還比較沒那麼多幹話</td>\n",
       "      <td>正常-normal</td>\n",
       "    </tr>\n",
       "    <tr>\n",
       "      <th>8777</th>\n",
       "      <td>還要調教客人</td>\n",
       "      <td>正常-normal</td>\n",
       "    </tr>\n",
       "    <tr>\n",
       "      <th>8778</th>\n",
       "      <td>幹話就後面那句</td>\n",
       "      <td>正常-normal</td>\n",
       "    </tr>\n",
       "  </tbody>\n",
       "</table>\n",
       "<p>8779 rows × 2 columns</p>\n",
       "</div>"
      ],
      "text/plain": [
       "                             message        label\n",
       "0                         差不多 但先讓妳睡著    正常-normal\n",
       "1                  回家也是跟我姐互嗆打屁講幹話哈哈哈    正常-normal\n",
       "2                      是我說跟女生做愛的那個女生  色情-sex word\n",
       "3                     很少跟異性聊天會聊到這種話題    正常-normal\n",
       "4     一個正常女生喜歡男生怎麼會跑去跟女生做愛咧？這不是很奇怪嗎？    正常-normal\n",
       "...                              ...          ...\n",
       "8774                      我要去確保你有去洗澡    正常-normal\n",
       "8775                      一邊幹話真的很重要欸    正常-normal\n",
       "8776                直接見面搞不好還比較沒那麼多幹話    正常-normal\n",
       "8777                          還要調教客人    正常-normal\n",
       "8778                         幹話就後面那句    正常-normal\n",
       "\n",
       "[8779 rows x 2 columns]"
      ]
     },
     "execution_count": 1,
     "metadata": {},
     "output_type": "execute_result"
    }
   ],
   "source": [
    "import pandas as pd\n",
    "\n",
    "# 读取 CSV 文件\n",
    "data = pd.read_csv('data/Taiwan_text_classification_dateset.csv')\n",
    "data"
   ]
  },
  {
   "cell_type": "code",
   "execution_count": 5,
   "id": "747f045d",
   "metadata": {},
   "outputs": [
    {
     "name": "stdout",
     "output_type": "stream",
     "text": [
      "                          message        label\n",
      "0                      差不多 但先讓妳睡著    正常-normal\n",
      "1               回家也是跟我姐互嗆打屁講幹話哈哈哈    正常-normal\n",
      "2                   是我說跟女生做愛的那個女生  色情-sex word\n",
      "3                  很少跟異性聊天會聊到這種話題    正常-normal\n",
      "4  一個正常女生喜歡男生怎麼會跑去跟女生做愛咧？這不是很奇怪嗎？    正常-normal\n"
     ]
    }
   ],
   "source": [
    "print(data[0:5])  # 显示前五行数据"
   ]
  },
  {
   "cell_type": "code",
   "execution_count": 8,
   "id": "96efa133",
   "metadata": {},
   "outputs": [
    {
     "name": "stdout",
     "output_type": "stream",
     "text": [
      "['正常-normal' '色情-sex word']\n"
     ]
    }
   ],
   "source": [
    "# 输出存在的label的种类有哪些\n",
    "print(data['label'].unique())"
   ]
  }
 ],
 "metadata": {
  "kernelspec": {
   "display_name": "liang",
   "language": "python",
   "name": "python3"
  },
  "language_info": {
   "codemirror_mode": {
    "name": "ipython",
    "version": 3
   },
   "file_extension": ".py",
   "mimetype": "text/x-python",
   "name": "python",
   "nbconvert_exporter": "python",
   "pygments_lexer": "ipython3",
   "version": "3.10.13"
  }
 },
 "nbformat": 4,
 "nbformat_minor": 5
}
